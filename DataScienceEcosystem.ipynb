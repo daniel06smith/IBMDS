{
 "cells": [
  {
   "cell_type": "markdown",
   "id": "0ffb6a03-4a3c-4f23-857d-d1bafddb0e4d",
   "metadata": {},
   "source": [
    "# Data Science Tools and Ecosystems"
   ]
  },
  {
   "cell_type": "markdown",
   "id": "19a8464f-4b5d-42b5-9192-8ef3333737e1",
   "metadata": {},
   "source": [
    "In this notebook, Data Science Tools and Ecosystem are sumarized."
   ]
  },
  {
   "cell_type": "markdown",
   "id": "69c1e1d4-b9ef-4350-a75b-b959ce4e466f",
   "metadata": {},
   "source": [
    "Some of the commonly used libraries used by Data Scientists include:\n",
    "1. matplotlib\n",
    "2. ggplot2\n",
    "3. dplyr"
   ]
  },
  {
   "cell_type": "markdown",
   "id": "4bd20ce8-3f54-42f4-996b-20bfea886ed0",
   "metadata": {},
   "source": [
    "|Data Science Tools|\n",
    "|---|\n",
    "|IDE's such as VSCode|\n",
    "|Jupter Notebooks|\n",
    "|R and Rstudio|"
   ]
  },
  {
   "cell_type": "markdown",
   "id": "314f757f-f598-4bf4-be75-80a5d3462bf5",
   "metadata": {},
   "source": [
    "### Below are a few examples of evaluating arithmetic expression in Python."
   ]
  },
  {
   "cell_type": "code",
   "execution_count": 9,
   "id": "10d726b9-6a8e-41eb-9d74-3892588722d7",
   "metadata": {},
   "outputs": [
    {
     "data": {
      "text/plain": [
       "17"
      ]
     },
     "execution_count": 9,
     "metadata": {},
     "output_type": "execute_result"
    }
   ],
   "source": [
    "# This is a simple arithmetic expression to multiply, then add integers.\n",
    "(3*4)+5"
   ]
  },
  {
   "cell_type": "code",
   "execution_count": 10,
   "id": "771a134c-327b-49ca-ac99-11dfae89e3f9",
   "metadata": {},
   "outputs": [
    {
     "data": {
      "text/plain": [
       "3.3333333333333335"
      ]
     },
     "execution_count": 10,
     "metadata": {},
     "output_type": "execute_result"
    }
   ],
   "source": [
    "# This will convert 200 minutes to hours by dividing by 60.\n",
    "200/60"
   ]
  },
  {
   "cell_type": "markdown",
   "id": "237c4ffa-e0cb-4a0e-8692-fa9a93ea325e",
   "metadata": {},
   "source": [
    "**Objectives:**\n",
    "1. List popular languages for Data Science\n",
    "2. List commonly used libraries for Data Science\n",
    "3. Show a table featuring Data Science Tools\n",
    "4. Show syntax of simple arithmetic expressions in Python."
   ]
  },
  {
   "cell_type": "markdown",
   "id": "9a6a12b5-ee50-4751-9a23-a160a0758ecf",
   "metadata": {},
   "source": [
    "## Author:\n",
    "Daniel Smith"
   ]
  },
  {
   "cell_type": "code",
   "execution_count": null,
   "id": "bff281a2-7ffa-46cc-bdb0-730506994373",
   "metadata": {},
   "outputs": [],
   "source": []
  }
 ],
 "metadata": {
  "kernelspec": {
   "display_name": "Python 3 (ipykernel)",
   "language": "python",
   "name": "python3"
  },
  "language_info": {
   "codemirror_mode": {
    "name": "ipython",
    "version": 3
   },
   "file_extension": ".py",
   "mimetype": "text/x-python",
   "name": "python",
   "nbconvert_exporter": "python",
   "pygments_lexer": "ipython3",
   "version": "3.12.4"
  }
 },
 "nbformat": 4,
 "nbformat_minor": 5
}
